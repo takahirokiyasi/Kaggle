{
 "cells": [
  {
   "cell_type": "code",
   "execution_count": 1,
   "metadata": {},
   "outputs": [],
   "source": [
    "import pandas as pd"
   ]
  },
  {
   "cell_type": "code",
   "execution_count": 2,
   "metadata": {},
   "outputs": [],
   "source": [
    "sub_gru_lstm = pd.read_csv(\"./submission.csv\")"
   ]
  },
  {
   "cell_type": "code",
   "execution_count": 3,
   "metadata": {},
   "outputs": [],
   "source": [
    "sub_gnn_attn = pd.read_csv(\"./submission1.csv\")"
   ]
  },
  {
   "cell_type": "code",
   "execution_count": 4,
   "metadata": {},
   "outputs": [],
   "source": [
    "submission = (sub_gru_lstm.drop(['id_seqpos'], axis=1) + \n",
    "              sub_gnn_attn.drop(['id_seqpos'], axis=1) )/2"
   ]
  },
  {
   "cell_type": "code",
   "execution_count": 6,
   "metadata": {},
   "outputs": [
    {
     "data": {
      "text/html": [
       "<div>\n",
       "<style scoped>\n",
       "    .dataframe tbody tr th:only-of-type {\n",
       "        vertical-align: middle;\n",
       "    }\n",
       "\n",
       "    .dataframe tbody tr th {\n",
       "        vertical-align: top;\n",
       "    }\n",
       "\n",
       "    .dataframe thead th {\n",
       "        text-align: right;\n",
       "    }\n",
       "</style>\n",
       "<table border=\"1\" class=\"dataframe\">\n",
       "  <thead>\n",
       "    <tr style=\"text-align: right;\">\n",
       "      <th></th>\n",
       "      <th>id_seqpos</th>\n",
       "      <th>reactivity</th>\n",
       "      <th>deg_Mg_pH10</th>\n",
       "      <th>deg_pH10</th>\n",
       "      <th>deg_Mg_50C</th>\n",
       "      <th>deg_50C</th>\n",
       "    </tr>\n",
       "  </thead>\n",
       "  <tbody>\n",
       "    <tr>\n",
       "      <th>0</th>\n",
       "      <td>id_00073f8be_0</td>\n",
       "      <td>0.740988</td>\n",
       "      <td>0.625185</td>\n",
       "      <td>1.906449</td>\n",
       "      <td>0.514482</td>\n",
       "      <td>0.759177</td>\n",
       "    </tr>\n",
       "    <tr>\n",
       "      <th>1</th>\n",
       "      <td>id_00073f8be_1</td>\n",
       "      <td>2.183166</td>\n",
       "      <td>3.111159</td>\n",
       "      <td>4.271625</td>\n",
       "      <td>3.110563</td>\n",
       "      <td>2.800860</td>\n",
       "    </tr>\n",
       "    <tr>\n",
       "      <th>2</th>\n",
       "      <td>id_00073f8be_2</td>\n",
       "      <td>1.111883</td>\n",
       "      <td>0.651820</td>\n",
       "      <td>0.717828</td>\n",
       "      <td>0.719932</td>\n",
       "      <td>0.837660</td>\n",
       "    </tr>\n",
       "    <tr>\n",
       "      <th>3</th>\n",
       "      <td>id_00073f8be_3</td>\n",
       "      <td>0.767954</td>\n",
       "      <td>0.752504</td>\n",
       "      <td>0.952707</td>\n",
       "      <td>1.035171</td>\n",
       "      <td>1.148769</td>\n",
       "    </tr>\n",
       "    <tr>\n",
       "      <th>4</th>\n",
       "      <td>id_00073f8be_4</td>\n",
       "      <td>0.627538</td>\n",
       "      <td>0.374672</td>\n",
       "      <td>0.443054</td>\n",
       "      <td>0.527161</td>\n",
       "      <td>0.662725</td>\n",
       "    </tr>\n",
       "  </tbody>\n",
       "</table>\n",
       "</div>"
      ],
      "text/plain": [
       "        id_seqpos  reactivity  deg_Mg_pH10  deg_pH10  deg_Mg_50C   deg_50C\n",
       "0  id_00073f8be_0    0.740988     0.625185  1.906449    0.514482  0.759177\n",
       "1  id_00073f8be_1    2.183166     3.111159  4.271625    3.110563  2.800860\n",
       "2  id_00073f8be_2    1.111883     0.651820  0.717828    0.719932  0.837660\n",
       "3  id_00073f8be_3    0.767954     0.752504  0.952707    1.035171  1.148769\n",
       "4  id_00073f8be_4    0.627538     0.374672  0.443054    0.527161  0.662725"
      ]
     },
     "execution_count": 6,
     "metadata": {},
     "output_type": "execute_result"
    }
   ],
   "source": [
    "submission['id_seqpos'] = sub_gru_lstm['id_seqpos']\n",
    "cols = [submission.columns[-1]] + list(submission.columns[: -1])\n",
    "submission = submission[cols]\n",
    "submission.head()"
   ]
  },
  {
   "cell_type": "code",
   "execution_count": 8,
   "metadata": {},
   "outputs": [],
   "source": [
    "submission.to_csv(\"submission_ensemblell.csv\", index=False)"
   ]
  },
  {
   "cell_type": "code",
   "execution_count": null,
   "metadata": {},
   "outputs": [],
   "source": []
  }
 ],
 "metadata": {
  "kernelspec": {
   "display_name": "Python 3",
   "language": "python",
   "name": "python3"
  },
  "language_info": {
   "codemirror_mode": {
    "name": "ipython",
    "version": 3
   },
   "file_extension": ".py",
   "mimetype": "text/x-python",
   "name": "python",
   "nbconvert_exporter": "python",
   "pygments_lexer": "ipython3",
   "version": "3.8.5"
  }
 },
 "nbformat": 4,
 "nbformat_minor": 4
}
